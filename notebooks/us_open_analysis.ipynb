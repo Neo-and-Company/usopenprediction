{
 "cells": [
  {
   "cell_type": "markdown",
   "metadata": {},
   "source": [
    "# US Open 2025 Prediction Analysis\n",
    "\n",
    "This notebook provides detailed analysis and visualization of the US Open 2025 predictions."
   ]
  },
  {
   "cell_type": "code",
   "execution_count": 1,
   "metadata": {},
   "outputs": [],
   "source": [
    "import pandas as pd\n",
    "import numpy as np\n",
    "import matplotlib.pyplot as plt\n",
    "import seaborn as sns\n",
    "import plotly.express as px\n",
    "import plotly.graph_objects as go\n",
    "from plotly.subplots import make_subplots\n",
    "\n",
    "\n",
    "import sys\n",
    "import os\n",
    "sys.path.append('../src')\n",
    "\n",
    "from prediction.us_open_2025_predictor import USOpen2025Predictor\n",
    "from modeling.tournament_predictor import TournamentPredictor\n",
    "\n",
    "# Set up plotting\n",
    "plt.style.use('seaborn-v0_8')\n",
    "sns.set_palette(\"husl\")\n",
    "\n",
    "%matplotlib inline"
   ]
  },
  {
   "cell_type": "markdown",
   "metadata": {},
   "source": [
    "## 1. Load Data and Generate Predictions"
   ]
  },
  {
   "cell_type": "code",
   "execution_count": 2,
   "metadata": {},
   "outputs": [
    {
     "name": "stdout",
     "output_type": "stream",
     "text": [
      "Starting 2025 US Open prediction process...\n",
      "Loading processed data...\n",
      "File not found: data/processed/processed_players.csv\n",
      "File not found: data/processed/processed_us_open_history.csv\n",
      "File not found: data/processed/processed_major_championships.csv\n",
      "File not found: data/processed/processed_pga_tour_recent.csv\n",
      "File not found: data/processed/processed_current_rankings.csv\n",
      "File not found: data/processed/processed_current_skills.csv\n",
      "Getting current US Open field...\n",
      "Could not retrieve current field: All arrays must be of the same length\n",
      "Using top-ranked players as field...\n",
      "Created simulated field: 156 players\n",
      "Training prediction models...\n",
      "No training data available\n",
      "Could not train models\n",
      "Predictions shape: (0, 0)\n",
      "\n",
      "Columns: []\n",
      "\n",
      "First few rows:\n"
     ]
    },
    {
     "data": {
      "text/html": [
       "<div>\n",
       "<style scoped>\n",
       "    .dataframe tbody tr th:only-of-type {\n",
       "        vertical-align: middle;\n",
       "    }\n",
       "\n",
       "    .dataframe tbody tr th {\n",
       "        vertical-align: top;\n",
       "    }\n",
       "\n",
       "    .dataframe thead th {\n",
       "        text-align: right;\n",
       "    }\n",
       "</style>\n",
       "<table border=\"1\" class=\"dataframe\">\n",
       "  <thead>\n",
       "    <tr style=\"text-align: right;\">\n",
       "      <th></th>\n",
       "    </tr>\n",
       "  </thead>\n",
       "  <tbody>\n",
       "  </tbody>\n",
       "</table>\n",
       "</div>"
      ],
      "text/plain": [
       "Empty DataFrame\n",
       "Columns: []\n",
       "Index: []"
      ]
     },
     "execution_count": 2,
     "metadata": {},
     "output_type": "execute_result"
    }
   ],
   "source": [
    "# Initialize predictor\n",
    "predictor = USOpen2025Predictor()\n",
    "\n",
    "# Run full prediction\n",
    "predictions_df, report = predictor.run_full_prediction()\n",
    "\n",
    "print(\"Predictions shape:\", predictions_df.shape)\n",
    "print(\"\\nColumns:\", list(predictions_df.columns))\n",
    "print(\"\\nFirst few rows:\")\n",
    "predictions_df.head()"
   ]
  },
  {
   "cell_type": "markdown",
   "metadata": {},
   "source": [
    "## 2. Prediction Report"
   ]
  },
  {
   "cell_type": "code",
   "execution_count": 3,
   "metadata": {},
   "outputs": [
    {
     "name": "stdout",
     "output_type": "stream",
     "text": [
      "Error: Could not train models\n"
     ]
    }
   ],
   "source": [
    "print(report)"
   ]
  },
  {
   "cell_type": "markdown",
   "metadata": {},
   "source": [
    "## 3. Visualization of Predictions"
   ]
  },
  {
   "cell_type": "code",
   "execution_count": 4,
   "metadata": {},
   "outputs": [
    {
     "name": "stdout",
     "output_type": "stream",
     "text": [
      "Probability columns: []\n"
     ]
    }
   ],
   "source": [
    "# Find probability columns\n",
    "prob_cols = [col for col in predictions_df.columns if 'prob' in col]\n",
    "print(\"Probability columns:\", prob_cols)\n",
    "\n",
    "if prob_cols:\n",
    "    # Create subplots for different predictions\n",
    "    fig, axes = plt.subplots(2, 2, figsize=(15, 12))\n",
    "    fig.suptitle('US Open 2025 Prediction Distributions', fontsize=16)\n",
    "    \n",
    "    for i, col in enumerate(prob_cols[:4]):\n",
    "        ax = axes[i//2, i%2]\n",
    "        \n",
    "        # Histogram of probabilities\n",
    "        ax.hist(predictions_df[col] * 100, bins=30, alpha=0.7, edgecolor='black')\n",
    "        ax.set_xlabel('Probability (%)')\n",
    "        ax.set_ylabel('Number of Players')\n",
    "        ax.set_title(col.replace('_prob_xgboost', '').replace('_', ' ').title())\n",
    "        ax.grid(True, alpha=0.3)\n",
    "    \n",
    "    plt.tight_layout()\n",
    "    plt.show()"
   ]
  },
  {
   "cell_type": "markdown",
   "metadata": {},
   "source": [
    "## 4. Top Candidates Analysis"
   ]
  },
  {
   "cell_type": "code",
   "execution_count": 5,
   "metadata": {},
   "outputs": [],
   "source": [
    "# Top win candidates\n",
    "win_col = [col for col in predictions_df.columns if 'won_prob' in col]\n",
    "\n",
    "if win_col:\n",
    "    top_winners = predictions_df.nlargest(20, win_col[0])\n",
    "    \n",
    "    # Create interactive bar chart\n",
    "    fig = px.bar(\n",
    "        top_winners, \n",
    "        x=win_col[0], \n",
    "        y='player_name' if 'player_name' in top_winners.columns else 'player_id',\n",
    "        orientation='h',\n",
    "        title='Top 20 Win Candidates - US Open 2025',\n",
    "        labels={win_col[0]: 'Win Probability', 'player_name': 'Player'}\n",
    "    )\n",
    "    \n",
    "    fig.update_layout(height=600, yaxis={'categoryorder':'total ascending'})\n",
    "    fig.show()\n",
    "    \n",
    "    # Display table\n",
    "    print(\"\\nTop 20 Win Candidates:\")\n",
    "    display_cols = ['player_name', win_col[0]] if 'player_name' in top_winners.columns else ['player_id', win_col[0]]\n",
    "    top_winners[display_cols].head(20)"
   ]
  },
  {
   "cell_type": "markdown",
   "metadata": {},
   "source": [
    "## 5. Model Performance Analysis"
   ]
  },
  {
   "cell_type": "code",
   "execution_count": 6,
   "metadata": {},
   "outputs": [
    {
     "name": "stdout",
     "output_type": "stream",
     "text": [
      "No model performance data available\n"
     ]
    }
   ],
   "source": [
    "# Analyze model performance if available\n",
    "if hasattr(predictor.predictor, 'models') and predictor.predictor.models:\n",
    "    print(\"Model Performance Summary:\")\n",
    "    print(\"=\" * 40)\n",
    "    \n",
    "    for target, models in predictor.predictor.models.items():\n",
    "        print(f\"\\n{target.upper()}:\")\n",
    "        for model_type, model_info in models.items():\n",
    "            metrics = model_info.get('metrics', {})\n",
    "            cv_mean = model_info.get('cv_mean', 0)\n",
    "            cv_std = model_info.get('cv_std', 0)\n",
    "            \n",
    "            print(f\"  {model_type}:\")\n",
    "            for metric, value in metrics.items():\n",
    "                print(f\"    {metric}: {value:.4f}\")\n",
    "            print(f\"    CV Score: {cv_mean:.4f} (+/- {cv_std*2:.4f})\")\n",
    "else:\n",
    "    print(\"No model performance data available\")"
   ]
  },
  {
   "cell_type": "markdown",
   "metadata": {},
   "source": [
    "## 6. Feature Importance Analysis"
   ]
  },
  {
   "cell_type": "code",
   "execution_count": 7,
   "metadata": {},
   "outputs": [
    {
     "name": "stdout",
     "output_type": "stream",
     "text": [
      "Could not generate feature importance: Model not found for target=top_10, model_type=xgboost\n"
     ]
    }
   ],
   "source": [
    "# Feature importance for top 10 prediction\n",
    "try:\n",
    "    feature_importance = predictor.predictor.get_feature_importance('top_10', 'xgboost', top_n=15)\n",
    "    \n",
    "    if not feature_importance.empty:\n",
    "        # Create horizontal bar chart\n",
    "        fig = px.bar(\n",
    "            feature_importance, \n",
    "            x='importance', \n",
    "            y='feature',\n",
    "            orientation='h',\n",
    "            title='Top 15 Most Important Features for Top 10 Prediction',\n",
    "            labels={'importance': 'Feature Importance', 'feature': 'Feature'}\n",
    "        )\n",
    "        \n",
    "        fig.update_layout(height=500, yaxis={'categoryorder':'total ascending'})\n",
    "        fig.show()\n",
    "        \n",
    "        print(\"\\nTop 15 Features:\")\n",
    "        display(feature_importance)\n",
    "    else:\n",
    "        print(\"No feature importance data available\")\n",
    "        \n",
    "except Exception as e:\n",
    "    print(f\"Could not generate feature importance: {e}\")"
   ]
  },
  {
   "cell_type": "markdown",
   "metadata": {},
   "source": [
    "## 7. Correlation Analysis"
   ]
  },
  {
   "cell_type": "code",
   "execution_count": 8,
   "metadata": {},
   "outputs": [],
   "source": [
    "# Correlation between different prediction targets\n",
    "prob_cols = [col for col in predictions_df.columns if 'prob' in col]\n",
    "\n",
    "if len(prob_cols) > 1:\n",
    "    # Calculate correlation matrix\n",
    "    corr_matrix = predictions_df[prob_cols].corr()\n",
    "    \n",
    "    # Create heatmap\n",
    "    plt.figure(figsize=(10, 8))\n",
    "    sns.heatmap(corr_matrix, annot=True, cmap='coolwarm', center=0, \n",
    "                square=True, fmt='.3f')\n",
    "    plt.title('Correlation Between Prediction Targets')\n",
    "    plt.tight_layout()\n",
    "    plt.show()\n",
    "    \n",
    "    print(\"\\nCorrelation Matrix:\")\n",
    "    display(corr_matrix)"
   ]
  },
  {
   "cell_type": "markdown",
   "metadata": {},
   "source": [
    "## 8. Risk vs Reward Analysis"
   ]
  },
  {
   "cell_type": "code",
   "execution_count": 9,
   "metadata": {},
   "outputs": [],
   "source": [
    "# Compare win probability vs top 10 probability\n",
    "win_col = [col for col in predictions_df.columns if 'won_prob' in col]\n",
    "top10_col = [col for col in predictions_df.columns if 'top_10_prob' in col]\n",
    "\n",
    "if win_col and top10_col:\n",
    "    # Create scatter plot\n",
    "    fig = px.scatter(\n",
    "        predictions_df, \n",
    "        x=top10_col[0], \n",
    "        y=win_col[0],\n",
    "        hover_name='player_name' if 'player_name' in predictions_df.columns else 'player_id',\n",
    "        title='Win Probability vs Top 10 Probability',\n",
    "        labels={\n",
    "            top10_col[0]: 'Top 10 Probability',\n",
    "            win_col[0]: 'Win Probability'\n",
    "        }\n",
    "    )\n",
    "    \n",
    "    fig.update_layout(height=600)\n",
    "    fig.show()\n",
    "    \n",
    "    # Identify value picks (high top 10 probability, lower win probability)\n",
    "    predictions_df['value_score'] = predictions_df[top10_col[0]] / (predictions_df[win_col[0]] + 0.001)\n",
    "    value_picks = predictions_df.nlargest(10, 'value_score')\n",
    "    \n",
    "    print(\"\\nTop 10 Value Picks (High Top 10 Probability, Lower Win Probability):\")\n",
    "    display_cols = ['player_name', top10_col[0], win_col[0], 'value_score'] if 'player_name' in value_picks.columns else ['player_id', top10_col[0], win_col[0], 'value_score']\n",
    "    display(value_picks[display_cols])"
   ]
  },
  {
   "cell_type": "markdown",
   "metadata": {},
   "source": [
    "## 9. Export Results"
   ]
  },
  {
   "cell_type": "code",
   "execution_count": 10,
   "metadata": {},
   "outputs": [
    {
     "name": "stdout",
     "output_type": "stream",
     "text": [
      "Analysis results saved to: ../data/predictions/us_open_2025_analysis_20250612_131958.csv\n",
      "Total players analyzed: 0\n",
      "\n",
      "Summary Statistics:\n"
     ]
    }
   ],
   "source": [
    "# Save detailed analysis results\n",
    "from datetime import datetime\n",
    "\n",
    "timestamp = datetime.now().strftime('%Y%m%d_%H%M%S')\n",
    "\n",
    "# Save predictions with analysis\n",
    "analysis_file = f'../data/predictions/us_open_2025_analysis_{timestamp}.csv'\n",
    "predictions_df.to_csv(analysis_file, index=False)\n",
    "\n",
    "print(f\"Analysis results saved to: {analysis_file}\")\n",
    "print(f\"Total players analyzed: {len(predictions_df)}\")\n",
    "\n",
    "# Summary statistics\n",
    "print(\"\\nSummary Statistics:\")\n",
    "for col in prob_cols:\n",
    "    target_name = col.replace('_prob_xgboost', '').replace('_prob_lightgbm', '').replace('_prob_random_forest', '')\n",
    "    mean_prob = predictions_df[col].mean() * 100\n",
    "    max_prob = predictions_df[col].max() * 100\n",
    "    std_prob = predictions_df[col].std() * 100\n",
    "    print(f\"{target_name.upper():<15} Mean: {mean_prob:5.1f}%  Max: {max_prob:5.1f}%  Std: {std_prob:5.1f}%\")"
   ]
  }
 ],
 "metadata": {
  "kernelspec": {
   "display_name": "Python 3",
   "language": "python",
   "name": "python3"
  },
  "language_info": {
   "codemirror_mode": {
    "name": "ipython",
    "version": 3
   },
   "file_extension": ".py",
   "mimetype": "text/x-python",
   "name": "python",
   "nbconvert_exporter": "python",
   "pygments_lexer": "ipython3",
   "version": "3.11.10"
  }
 },
 "nbformat": 4,
 "nbformat_minor": 4
}
